{
 "cells": [
  {
   "cell_type": "code",
   "execution_count": 1,
   "id": "8f01af56",
   "metadata": {},
   "outputs": [],
   "source": [
    "import pandas as pd\n",
    "import numpy as np\n",
    "import matplotlib.pyplot as plt\n",
    "import seaborn as sb\n",
    "%matplotlib inline\n",
    "\n",
    "from sklearn.metrics import mean_squared_error \n",
    "from math import sqrt\n",
    "from yellowbrick.classifier import ClassificationReport\n",
    "from yellowbrick.regressor import ResidualsPlot\n",
    "from sklearn.model_selection import cross_val_score\n",
    "from sklearn.model_selection import cross_validate\n",
    "from sklearn.metrics import make_scorer, confusion_matrix"
   ]
  },
  {
   "cell_type": "code",
   "execution_count": 2,
   "id": "b66af5dd",
   "metadata": {},
   "outputs": [],
   "source": [
    "#read the data source file\n",
    "db = pd.read_csv('C:/Users/KAI/Desktop/MY/DATASET/CLIMATEDATA3.csv')"
   ]
  },
  {
   "cell_type": "code",
   "execution_count": 3,
   "id": "da482ae1",
   "metadata": {},
   "outputs": [
    {
     "data": {
      "text/html": [
       "<div>\n",
       "<style scoped>\n",
       "    .dataframe tbody tr th:only-of-type {\n",
       "        vertical-align: middle;\n",
       "    }\n",
       "\n",
       "    .dataframe tbody tr th {\n",
       "        vertical-align: top;\n",
       "    }\n",
       "\n",
       "    .dataframe thead th {\n",
       "        text-align: right;\n",
       "    }\n",
       "</style>\n",
       "<table border=\"1\" class=\"dataframe\">\n",
       "  <thead>\n",
       "    <tr style=\"text-align: right;\">\n",
       "      <th></th>\n",
       "      <th>REGION</th>\n",
       "      <th>YEAR</th>\n",
       "      <th>CASSAVA</th>\n",
       "      <th>CL</th>\n",
       "      <th>MAIZE</th>\n",
       "      <th>MAL</th>\n",
       "      <th>MILLET</th>\n",
       "      <th>ML</th>\n",
       "      <th>RICE</th>\n",
       "      <th>RL</th>\n",
       "      <th>SORGHUM</th>\n",
       "      <th>SL</th>\n",
       "      <th>RAINFALL</th>\n",
       "      <th>TEMPERATURE</th>\n",
       "    </tr>\n",
       "  </thead>\n",
       "  <tbody>\n",
       "    <tr>\n",
       "      <th>0</th>\n",
       "      <td>ARUSHA</td>\n",
       "      <td>2011</td>\n",
       "      <td>2897</td>\n",
       "      <td>0</td>\n",
       "      <td>109307</td>\n",
       "      <td>0</td>\n",
       "      <td>11755</td>\n",
       "      <td>1</td>\n",
       "      <td>117580.0</td>\n",
       "      <td>1</td>\n",
       "      <td>35067</td>\n",
       "      <td>1</td>\n",
       "      <td>491.2</td>\n",
       "      <td>26.8</td>\n",
       "    </tr>\n",
       "    <tr>\n",
       "      <th>1</th>\n",
       "      <td>COAST</td>\n",
       "      <td>2011</td>\n",
       "      <td>326317</td>\n",
       "      <td>1</td>\n",
       "      <td>53632</td>\n",
       "      <td>0</td>\n",
       "      <td>0</td>\n",
       "      <td>0</td>\n",
       "      <td>235804.0</td>\n",
       "      <td>1</td>\n",
       "      <td>47587</td>\n",
       "      <td>1</td>\n",
       "      <td>1037.0</td>\n",
       "      <td>31.4</td>\n",
       "    </tr>\n",
       "    <tr>\n",
       "      <th>2</th>\n",
       "      <td>DAR-ES-SALAAM</td>\n",
       "      <td>2011</td>\n",
       "      <td>4729</td>\n",
       "      <td>0</td>\n",
       "      <td>657</td>\n",
       "      <td>0</td>\n",
       "      <td>1</td>\n",
       "      <td>0</td>\n",
       "      <td>2162.0</td>\n",
       "      <td>0</td>\n",
       "      <td>1</td>\n",
       "      <td>0</td>\n",
       "      <td>1312.9</td>\n",
       "      <td>31.8</td>\n",
       "    </tr>\n",
       "    <tr>\n",
       "      <th>3</th>\n",
       "      <td>DODOMA</td>\n",
       "      <td>2011</td>\n",
       "      <td>60062</td>\n",
       "      <td>0</td>\n",
       "      <td>92546</td>\n",
       "      <td>0</td>\n",
       "      <td>73217</td>\n",
       "      <td>1</td>\n",
       "      <td>11815.0</td>\n",
       "      <td>0</td>\n",
       "      <td>210622</td>\n",
       "      <td>1</td>\n",
       "      <td>643.1</td>\n",
       "      <td>29.2</td>\n",
       "    </tr>\n",
       "    <tr>\n",
       "      <th>4</th>\n",
       "      <td>IRINGA</td>\n",
       "      <td>2011</td>\n",
       "      <td>1861</td>\n",
       "      <td>0</td>\n",
       "      <td>359157</td>\n",
       "      <td>1</td>\n",
       "      <td>2048</td>\n",
       "      <td>0</td>\n",
       "      <td>12016.0</td>\n",
       "      <td>0</td>\n",
       "      <td>8854</td>\n",
       "      <td>0</td>\n",
       "      <td>770.0</td>\n",
       "      <td>27.6</td>\n",
       "    </tr>\n",
       "  </tbody>\n",
       "</table>\n",
       "</div>"
      ],
      "text/plain": [
       "          REGION  YEAR  CASSAVA  CL   MAIZE  MAL  MILLET  ML      RICE  RL  \\\n",
       "0         ARUSHA  2011     2897   0  109307    0   11755   1  117580.0   1   \n",
       "1          COAST  2011   326317   1   53632    0       0   0  235804.0   1   \n",
       "2  DAR-ES-SALAAM  2011     4729   0     657    0       1   0    2162.0   0   \n",
       "3         DODOMA  2011    60062   0   92546    0   73217   1   11815.0   0   \n",
       "4         IRINGA  2011     1861   0  359157    1    2048   0   12016.0   0   \n",
       "\n",
       "   SORGHUM  SL  RAINFALL  TEMPERATURE  \n",
       "0    35067   1     491.2         26.8  \n",
       "1    47587   1    1037.0         31.4  \n",
       "2        1   0    1312.9         31.8  \n",
       "3   210622   1     643.1         29.2  \n",
       "4     8854   0     770.0         27.6  "
      ]
     },
     "execution_count": 3,
     "metadata": {},
     "output_type": "execute_result"
    }
   ],
   "source": [
    "db.head()"
   ]
  },
  {
   "cell_type": "code",
   "execution_count": 4,
   "id": "097eda01",
   "metadata": {},
   "outputs": [
    {
     "data": {
      "text/plain": [
       "<AxesSubplot:ylabel='ML'>"
      ]
     },
     "execution_count": 4,
     "metadata": {},
     "output_type": "execute_result"
    },
    {
     "data": {
      "image/png": "[encoded data removed]",
      "text/plain": [
       "<Figure size 576x396 with 1 Axes>"
      ]
     },
     "metadata": {},
     "output_type": "display_data"
    }
   ],
   "source": [
    "db.ML.value_counts().plot(kind='pie', autopct='%.2f')"
   ]
  },
  {
   "cell_type": "code",
   "execution_count": 5,
   "id": "11c6cbe5",
   "metadata": {},
   "outputs": [],
   "source": [
    "###FOR MAIZE-LABEL->-> TRANINIG & TESTING  \n",
    "x = db.iloc[:,[0,1,4,12,13]].values\n",
    "y = db.iloc[:,[5]].values"
   ]
  },
  {
   "cell_type": "code",
   "execution_count": 6,
   "id": "6db434cc",
   "metadata": {},
   "outputs": [],
   "source": [
    "###ONEHOT ENCODING\n",
    "from sklearn.preprocessing import LabelEncoder\n",
    "from sklearn.preprocessing import OneHotEncoder\n",
    "from sklearn.compose import ColumnTransformer"
   ]
  },
  {
   "cell_type": "code",
   "execution_count": 7,
   "id": "65891ffa",
   "metadata": {},
   "outputs": [],
   "source": [
    "le_x = LabelEncoder()"
   ]
  },
  {
   "cell_type": "code",
   "execution_count": 8,
   "id": "a8f26dae",
   "metadata": {},
   "outputs": [],
   "source": [
    "x[:,0] = le_x.fit_transform(x[:,0])\n",
    "ohe_x = OneHotEncoder(categories='auto')\n",
    "x = ohe_x.fit_transform(x).toarray()"
   ]
  },
  {
   "cell_type": "code",
   "execution_count": 9,
   "id": "6779a912",
   "metadata": {},
   "outputs": [
    {
     "data": {
      "text/html": [
       "<div>\n",
       "<style scoped>\n",
       "    .dataframe tbody tr th:only-of-type {\n",
       "        vertical-align: middle;\n",
       "    }\n",
       "\n",
       "    .dataframe tbody tr th {\n",
       "        vertical-align: top;\n",
       "    }\n",
       "\n",
       "    .dataframe thead th {\n",
       "        text-align: right;\n",
       "    }\n",
       "</style>\n",
       "<table border=\"1\" class=\"dataframe\">\n",
       "  <thead>\n",
       "    <tr style=\"text-align: right;\">\n",
       "      <th></th>\n",
       "      <th>REGION</th>\n",
       "      <th>YEAR</th>\n",
       "      <th>CASSAVA</th>\n",
       "      <th>CL</th>\n",
       "      <th>MAIZE</th>\n",
       "      <th>MAL</th>\n",
       "      <th>MILLET</th>\n",
       "      <th>ML</th>\n",
       "      <th>RICE</th>\n",
       "      <th>RL</th>\n",
       "      <th>SORGHUM</th>\n",
       "      <th>SL</th>\n",
       "      <th>RAINFALL</th>\n",
       "      <th>TEMPERATURE</th>\n",
       "    </tr>\n",
       "  </thead>\n",
       "  <tbody>\n",
       "    <tr>\n",
       "      <th>0</th>\n",
       "      <td>ARUSHA</td>\n",
       "      <td>2011</td>\n",
       "      <td>2897</td>\n",
       "      <td>0</td>\n",
       "      <td>109307</td>\n",
       "      <td>0</td>\n",
       "      <td>11755</td>\n",
       "      <td>1</td>\n",
       "      <td>117580.0</td>\n",
       "      <td>1</td>\n",
       "      <td>35067</td>\n",
       "      <td>1</td>\n",
       "      <td>491.2</td>\n",
       "      <td>26.8</td>\n",
       "    </tr>\n",
       "    <tr>\n",
       "      <th>1</th>\n",
       "      <td>COAST</td>\n",
       "      <td>2011</td>\n",
       "      <td>326317</td>\n",
       "      <td>1</td>\n",
       "      <td>53632</td>\n",
       "      <td>0</td>\n",
       "      <td>0</td>\n",
       "      <td>0</td>\n",
       "      <td>235804.0</td>\n",
       "      <td>1</td>\n",
       "      <td>47587</td>\n",
       "      <td>1</td>\n",
       "      <td>1037.0</td>\n",
       "      <td>31.4</td>\n",
       "    </tr>\n",
       "    <tr>\n",
       "      <th>2</th>\n",
       "      <td>DAR-ES-SALAAM</td>\n",
       "      <td>2011</td>\n",
       "      <td>4729</td>\n",
       "      <td>0</td>\n",
       "      <td>657</td>\n",
       "      <td>0</td>\n",
       "      <td>1</td>\n",
       "      <td>0</td>\n",
       "      <td>2162.0</td>\n",
       "      <td>0</td>\n",
       "      <td>1</td>\n",
       "      <td>0</td>\n",
       "      <td>1312.9</td>\n",
       "      <td>31.8</td>\n",
       "    </tr>\n",
       "    <tr>\n",
       "      <th>3</th>\n",
       "      <td>DODOMA</td>\n",
       "      <td>2011</td>\n",
       "      <td>60062</td>\n",
       "      <td>0</td>\n",
       "      <td>92546</td>\n",
       "      <td>0</td>\n",
       "      <td>73217</td>\n",
       "      <td>1</td>\n",
       "      <td>11815.0</td>\n",
       "      <td>0</td>\n",
       "      <td>210622</td>\n",
       "      <td>1</td>\n",
       "      <td>643.1</td>\n",
       "      <td>29.2</td>\n",
       "    </tr>\n",
       "    <tr>\n",
       "      <th>4</th>\n",
       "      <td>IRINGA</td>\n",
       "      <td>2011</td>\n",
       "      <td>1861</td>\n",
       "      <td>0</td>\n",
       "      <td>359157</td>\n",
       "      <td>1</td>\n",
       "      <td>2048</td>\n",
       "      <td>0</td>\n",
       "      <td>12016.0</td>\n",
       "      <td>0</td>\n",
       "      <td>8854</td>\n",
       "      <td>0</td>\n",
       "      <td>770.0</td>\n",
       "      <td>27.6</td>\n",
       "    </tr>\n",
       "  </tbody>\n",
       "</table>\n",
       "</div>"
      ],
      "text/plain": [
       "          REGION  YEAR  CASSAVA  CL   MAIZE  MAL  MILLET  ML      RICE  RL  \\\n",
       "0         ARUSHA  2011     2897   0  109307    0   11755   1  117580.0   1   \n",
       "1          COAST  2011   326317   1   53632    0       0   0  235804.0   1   \n",
       "2  DAR-ES-SALAAM  2011     4729   0     657    0       1   0    2162.0   0   \n",
       "3         DODOMA  2011    60062   0   92546    0   73217   1   11815.0   0   \n",
       "4         IRINGA  2011     1861   0  359157    1    2048   0   12016.0   0   \n",
       "\n",
       "   SORGHUM  SL  RAINFALL  TEMPERATURE  \n",
       "0    35067   1     491.2         26.8  \n",
       "1    47587   1    1037.0         31.4  \n",
       "2        1   0    1312.9         31.8  \n",
       "3   210622   1     643.1         29.2  \n",
       "4     8854   0     770.0         27.6  "
      ]
     },
     "execution_count": 9,
     "metadata": {},
     "output_type": "execute_result"
    }
   ],
   "source": [
    "db.head(5)"
   ]
  },
  {
   "cell_type": "code",
   "execution_count": 10,
   "id": "9dedb2e4",
   "metadata": {},
   "outputs": [
    {
     "data": {
      "text/plain": [
       "array([[1., 0., 0., ..., 0., 0., 0.],\n",
       "       [0., 1., 0., ..., 0., 0., 0.],\n",
       "       [0., 0., 1., ..., 0., 0., 0.],\n",
       "       ...,\n",
       "       [0., 0., 0., ..., 0., 0., 0.],\n",
       "       [0., 0., 0., ..., 0., 0., 0.],\n",
       "       [0., 0., 0., ..., 0., 0., 0.]])"
      ]
     },
     "execution_count": 10,
     "metadata": {},
     "output_type": "execute_result"
    }
   ],
   "source": [
    "x"
   ]
  },
  {
   "cell_type": "code",
   "execution_count": 11,
   "id": "08df1b62",
   "metadata": {},
   "outputs": [
    {
     "name": "stderr",
     "output_type": "stream",
     "text": [
      "C:\\workspace\\lib\\site-packages\\sklearn\\preprocessing\\_label.py:115: DataConversionWarning: A column-vector y was passed when a 1d array was expected. Please change the shape of y to (n_samples, ), for example using ravel().\n",
      "  y = column_or_1d(y, warn=True)\n"
     ]
    }
   ],
   "source": [
    "y = le_x.fit_transform(y)\n",
    "y = y.ravel()"
   ]
  },
  {
   "cell_type": "code",
   "execution_count": 12,
   "id": "7abaf71e",
   "metadata": {},
   "outputs": [],
   "source": [
    "from sklearn.model_selection import train_test_split\n",
    "\n",
    "x_train, x_test, y_train, y_test = train_test_split(x, y, test_size = 0.3, random_state = 0)"
   ]
  },
  {
   "cell_type": "code",
   "execution_count": 13,
   "id": "91bddfb3",
   "metadata": {},
   "outputs": [],
   "source": [
    "from sklearn.preprocessing import StandardScaler\n",
    "sc = StandardScaler()\n",
    "x_train = sc.fit_transform(x_train)\n",
    "x_test = sc.transform(x_test)"
   ]
  },
  {
   "cell_type": "code",
   "execution_count": 14,
   "id": "a72a2b32",
   "metadata": {},
   "outputs": [
    {
     "name": "stdout",
     "output_type": "stream",
     "text": [
      "Accuracy on the training subset: 1.000\n",
      "Accuracy on the test subset: 0.722\n"
     ]
    }
   ],
   "source": [
    "#SVM\n",
    "from sklearn.svm import LinearSVC\n",
    "classifier = LinearSVC(random_state = 2)\n",
    "classifier.fit(x_train, y_train)\n",
    "predsvm = classifier.predict(x_test)\n",
    "\n",
    "print('Accuracy on the training subset: {:.3f}'.format(classifier.score(x_train, y_train)))\n",
    "print('Accuracy on the test subset: {:.3f}'.format(classifier.score(x_test, y_test)))"
   ]
  },
  {
   "cell_type": "code",
   "execution_count": 15,
   "id": "ab19fa00",
   "metadata": {},
   "outputs": [
    {
     "name": "stdout",
     "output_type": "stream",
     "text": [
      "Accuracy on the training subset: 1.000\n",
      "Accuracy on the test subset: 0.704\n"
     ]
    }
   ],
   "source": [
    "#random forrest\n",
    "from sklearn.ensemble import RandomForestClassifier #for the model\n",
    "forest = RandomForestClassifier(n_estimators=100, random_state=2)\n",
    "predrf1=forest.fit(x_train, y_train).predict(x_test)\n",
    "\n",
    "print('Accuracy on the training subset: {:.3f}'.format(forest.score(x_train, y_train)))\n",
    "print('Accuracy on the test subset: {:.3f}'.format(forest.score(x_test, y_test)))"
   ]
  },
  {
   "cell_type": "code",
   "execution_count": 16,
   "id": "d180ee8e",
   "metadata": {},
   "outputs": [
    {
     "name": "stdout",
     "output_type": "stream",
     "text": [
      "Accuracy on the training subset: 0.754\n",
      "Accuracy on the test subset: 0.611\n"
     ]
    }
   ],
   "source": [
    "#knn model\n",
    "from sklearn import neighbors\n",
    "knn = neighbors.KNeighborsClassifier(n_neighbors=2)\n",
    "knn_pred2 = knn.fit(x_train, y_train).predict(x_test)\n",
    "knn_pred_proba2 = knn.predict_proba(x_test)\n",
    "\n",
    "print('Accuracy on the training subset: {:.3f}'.format(knn.score(x_train, y_train)))\n",
    "print('Accuracy on the test subset: {:.3f}'.format(knn.score(x_test, y_test)))"
   ]
  },
  {
   "cell_type": "code",
   "execution_count": 17,
   "id": "1fde40e8",
   "metadata": {},
   "outputs": [
    {
     "name": "stdout",
     "output_type": "stream",
     "text": [
      "Accuracy on the training subset: 1.000\n",
      "Accuracy on the test subset: 0.685\n"
     ]
    }
   ],
   "source": [
    "#Naive bayes model.\n",
    "from sklearn.naive_bayes import GaussianNB\n",
    "gnb = GaussianNB()\n",
    "prednb = gnb.fit(x_train, y_train).predict(x_test)\n",
    "\n",
    "print('Accuracy on the training subset: {:.3f}'.format(gnb.score(x_train, y_train)))\n",
    "print('Accuracy on the test subset: {:.3f}'.format(gnb.score(x_test, y_test)))"
   ]
  },
  {
   "cell_type": "code",
   "execution_count": 18,
   "id": "12235ff0",
   "metadata": {},
   "outputs": [
    {
     "data": {
      "image/png": "[encoded data removed]",
      "text/plain": [
       "<Figure size 576x396 with 2 Axes>"
      ]
     },
     "metadata": {},
     "output_type": "display_data"
    },
    {
     "data": {
      "image/png": "[encoded data removed]",
      "text/plain": [
       "<Figure size 576x396 with 2 Axes>"
      ]
     },
     "metadata": {},
     "output_type": "display_data"
    },
    {
     "data": {
      "image/png": "[encoded data removed]",
      "text/plain": [
       "<Figure size 576x396 with 2 Axes>"
      ]
     },
     "metadata": {},
     "output_type": "display_data"
    },
    {
     "data": {
      "image/png": "[encoded data removed]",
      "text/plain": [
       "<Figure size 576x396 with 2 Axes>"
      ]
     },
     "metadata": {},
     "output_type": "display_data"
    }
   ],
   "source": [
    "# Instantiate the classification model and visualizer \n",
    "# For SVM\n",
    "visualizer1 = ClassificationReport(classifier, classes=['affected','not affected'])\n",
    "visualizer1.fit(x_train, y_train) # Fit the training data to the visualizer\n",
    "visualizer1.score(x_test, y_test) # Evaluate the model on the test data\n",
    "g1 = visualizer1.poof() # Draw/show/poof the data\n",
    "\n",
    "\n",
    "# For RF\n",
    "visualizer2 = ClassificationReport(forest, classes=['affected','not affected'])\n",
    "visualizer2.fit(x_train, y_train) # Fit the training data to the visualizer\n",
    "visualizer2.score(x_test, y_test) # Evaluate the model on the test data\n",
    "g2 = visualizer2.poof() # Draw/show/poof the data\n",
    "\n",
    "# For KNN\n",
    "visualizer3 = ClassificationReport(knn, classes=['affected','not affected'])\n",
    "visualizer3.fit(x_train, y_train) # Fit the training data to the visualizer\n",
    "visualizer3.score(x_test, y_test) # Evaluate the model on the test data\n",
    "g3 = visualizer3.poof() # Draw/show/poof the data\n",
    "\n",
    "# For NB\n",
    "visualizer4 = ClassificationReport(gnb, classes=['affected','not affected'])\n",
    "visualizer4.fit(x_train, y_train) # Fit the training data to the visualizer\n",
    "visualizer4.score(x_test, y_test) # Evaluate the model on the test data\n",
    "g2 = visualizer4.poof() # Draw/show/poof the data"
   ]
  },
  {
   "cell_type": "code",
   "execution_count": 19,
   "id": "a105d75b",
   "metadata": {},
   "outputs": [
    {
     "name": "stdout",
     "output_type": "stream",
     "text": [
      "For SVM\n",
      "scores: [0.46153846 0.46153846 0.46153846 0.61538462 0.61538462 0.61538462\n",
      " 0.66666667 0.58333333 0.41666667 0.75      ]\n",
      "Accuracy: 56.00000000000001 %\n",
      "Standard Deviation: +/- 0.10326085452031478\n",
      "For RF\n",
      "scores: [0.92307692 0.84615385 0.76923077 0.61538462 0.69230769 0.76923077\n",
      " 0.66666667 0.83333333 0.66666667 0.75      ]\n",
      "Accuracy: 75.0 %\n",
      "Standard Deviation: +/- 0.09062071364185949\n",
      "For KNN\n",
      "scores: [0.61538462 0.69230769 0.76923077 0.61538462 0.61538462 0.53846154\n",
      " 0.66666667 0.66666667 0.66666667 0.66666667]\n",
      "Accuracy: 65.0 %\n",
      "Standard Deviation: +/- 0.057563959796522166\n",
      "For NB\n",
      "scores: [0.76923077 0.76923077 0.84615385 0.69230769 0.84615385 0.69230769\n",
      " 0.66666667 0.66666667 0.58333333 1.        ]\n",
      "Accuracy: 75.0 %\n",
      "Standard Deviation: +/- 0.11399627720370988\n"
     ]
    }
   ],
   "source": [
    "#cross_val_score\n",
    "print(\"For SVM\")\n",
    "score = cross_val_score(classifier, x_train, y_train, cv = 10)\n",
    "print(\"scores:\", score)\n",
    "print(\"Accuracy:\", round(score.mean(), 2) * 100, \"%\")\n",
    "print(\"Standard Deviation: +/-\", score.std())\n",
    "\n",
    "print(\"For RF\")\n",
    "score = cross_val_score(forest, x_train, y_train, cv = 10)\n",
    "print(\"scores:\", score)\n",
    "print(\"Accuracy:\", round(score.mean(), 2) * 100, \"%\")\n",
    "print(\"Standard Deviation: +/-\", score.std())\n",
    "\n",
    "print(\"For KNN\")\n",
    "score = cross_val_score(knn, x_train, y_train, cv = 10)\n",
    "print(\"scores:\", score)\n",
    "print(\"Accuracy:\", round(score.mean(), 2) * 100, \"%\")\n",
    "print(\"Standard Deviation: +/-\", score.std())\n",
    "\n",
    "print(\"For NB\")\n",
    "score = cross_val_score(gnb, x_train, y_train, cv = 10)\n",
    "print(\"scores:\", score)\n",
    "print(\"Accuracy:\", round(score.mean(), 2) * 100, \"%\")\n",
    "print(\"Standard Deviation: +/-\", score.std())"
   ]
  },
  {
   "cell_type": "code",
   "execution_count": null,
   "id": "b84d0e1d",
   "metadata": {},
   "outputs": [],
   "source": []
  }
 ],
 "metadata": {
  "kernelspec": {
   "display_name": "Python 3 (ipykernel)",
   "language": "python",
   "name": "python3"
  },
  "language_info": {
   "codemirror_mode": {
    "name": "ipython",
    "version": 3
   },
   "file_extension": ".py",
   "mimetype": "text/x-python",
   "name": "python",
   "nbconvert_exporter": "python",
   "pygments_lexer": "ipython3",
   "version": "3.9.7"
  }
 },
 "nbformat": 4,
 "nbformat_minor": 5
}
